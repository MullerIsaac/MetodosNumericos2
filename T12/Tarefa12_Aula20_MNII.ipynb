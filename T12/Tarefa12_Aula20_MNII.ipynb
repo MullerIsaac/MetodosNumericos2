{
 "cells": [
  {
   "cell_type": "markdown",
   "id": "0a94527d",
   "metadata": {},
   "source": [
    "### TAREFA 12 - METÓDOS NUMÉRICOS II\n",
    "\n",
    "Membros:\n",
    "* Isaac Miller\n",
    "* Milton Cassul\n",
    "\n",
    "Tarefa descrita no final das aula [Aula#20](https://drive.google.com/file/d/1yY4Es4gY5nBLG9JaUlwQywGrP58Oh0U0/view)"
   ]
  },
  {
   "cell_type": "code",
   "execution_count": 1,
   "id": "705455d6",
   "metadata": {},
   "outputs": [],
   "source": [
    "import numpy as np\n",
    "import scipy.linalg as sci\n",
    "np.set_printoptions(precision=5,suppress=True)"
   ]
  },
  {
   "cell_type": "code",
   "execution_count": 2,
   "id": "80844274",
   "metadata": {},
   "outputs": [],
   "source": [
    "def potencia_inverso(A):\n",
    "    v = np.ones((A.shape[0],1))\n",
    "    tolerancia = 1E-10\n",
    "    \n",
    "    LU,piv = sci.lu_factor(A)         #LU tem o U na parte superior e o L na inferior\n",
    "    \n",
    "    lambda_ = 0\n",
    "    dif = 1\n",
    "\n",
    "    while dif > tolerancia:\n",
    "        lambda_velho=lambda_\n",
    "        x1 = v / np.linalg.norm(v)\n",
    "        v = sci.lu_solve((LU, piv), x1)\n",
    "        lambda_ = x1.T.dot(v)\n",
    "        dif = abs((lambda_-lambda_velho)/lambda_)\n",
    "\n",
    "        #print('autovetor = \\n ',x1)\n",
    "        #print('autovalor = ',lambda_,'\\n')\n",
    "        \n",
    "    lambda_ = 1/lambda_\n",
    "    return x1,lambda_"
   ]
  },
  {
   "cell_type": "code",
   "execution_count": 3,
   "id": "e4942303",
   "metadata": {},
   "outputs": [],
   "source": [
    "def potencia_deslocamento(A,desloc):\n",
    "    A = A - (desloc*np.eye(A.shape[0]))\n",
    "\n",
    "    vetor,valor = potencia_inverso(A)\n",
    "    valor += desloc\n",
    "    \n",
    "    return vetor,valor"
   ]
  },
  {
   "cell_type": "code",
   "execution_count": 4,
   "id": "d6ae04ea",
   "metadata": {},
   "outputs": [],
   "source": [
    "def eigen(A):\n",
    "    desloc = np.linspace(4,50,5)       #Deslocamentos pra matriz A da tarefa\n",
    "    autovetores,autovalores = [],[]\n",
    "    \n",
    "    for p in desloc:\n",
    "        #print('\\nDeslocamento = ',p)\n",
    "        vetor,valor=potencia_deslocamento(A,p)\n",
    "        autovetores.append(vetor)\n",
    "        autovalores.append(valor)\n",
    "        #print('autovetor = \\n',vetor)\n",
    "        #print('autovalor = ',valor)\n",
    "\n",
    "    return autovetores,autovalores"
   ]
  },
  {
   "cell_type": "code",
   "execution_count": 5,
   "id": "6807b571",
   "metadata": {},
   "outputs": [],
   "source": [
    "def householder(A):\n",
    "    n = A.shape[0]\n",
    "    H = np.eye(n)\n",
    "    A_ant = A\n",
    "    \n",
    "    for i in range(n-2):\n",
    "        H_i = matriz_householder(A_ant, i)\n",
    "        A = H_i.T.dot(A_ant).dot(H_i)\n",
    "        A_ant = A\n",
    "        H = H.dot(H_i)\n",
    "        \n",
    "    print('Matriz tridiagonal A_barra = \\n',A,'\\n')\n",
    "    print(\"Matriz acumulada H de householder = \\n\",H,'\\n')\n",
    "    return A, H"
   ]
  },
  {
   "cell_type": "code",
   "execution_count": 6,
   "id": "e834b519",
   "metadata": {},
   "outputs": [],
   "source": [
    "def matriz_householder(A, i):\n",
    "    n = A.shape[0]\n",
    "    w,z = np.zeros(n),np.zeros(n)                  #w e w'\n",
    "    \n",
    "    \n",
    "    w[i+1:n] = A[i+1:n,i]\n",
    "    z[i+1] = np.linalg.norm(w) \n",
    "    N = w - z\n",
    "    N /= np.linalg.norm(N)\n",
    "    \n",
    "    H = np.eye(n) - (2*np.outer(N,N))\n",
    "    #print(\"Matriz de householder = \",H,'\\n')\n",
    "    return H"
   ]
  },
  {
   "cell_type": "code",
   "execution_count": 7,
   "id": "81f71a8f",
   "metadata": {},
   "outputs": [
    {
     "name": "stdout",
     "output_type": "stream",
     "text": [
      "Matriz tridiagonal A_barra = \n",
      " [[40.       9.21954  0.      -0.      -0.     ]\n",
      " [ 9.21954 39.82353  4.06759 -0.       0.     ]\n",
      " [ 0.       4.06759 15.06872  6.29137  0.     ]\n",
      " [-0.      -0.       6.29137 17.58996  5.86698]\n",
      " [-0.       0.       0.       5.86698  7.51779]] \n",
      "\n",
      "Matriz acumulada H de householder = \n",
      " [[ 1.       0.       0.       0.       0.     ]\n",
      " [ 0.       0.86772 -0.44234  0.08856  0.2087 ]\n",
      " [ 0.       0.43386  0.55214 -0.60367 -0.37748]\n",
      " [ 0.       0.21693  0.70272  0.58707  0.33835]\n",
      " [ 0.       0.10847 -0.07529  0.53206 -0.83635]] \n",
      "\n",
      "Autovetores e Autovalores de A_barra = \n",
      "\n",
      "[ 0.0091  -0.0355   0.29192 -0.48995  0.82061] --- [[4.01488]]\n",
      "[-0.04133  0.12711 -0.78698  0.34641  0.49274] --- [[11.64243]]\n",
      "[ 0.10328 -0.18319  0.49439  0.79262  0.28829] --- [[23.64808]]\n",
      "[ 0.70729 -0.66654 -0.20827 -0.10675 -0.02632] --- [[31.31147]]\n",
      "[-0.69806 -0.71045 -0.08747 -0.01777 -0.00249] --- [[49.38315]]\n",
      "\n",
      " Autovetores e Autovalores de A = \n",
      "\n",
      "[ 0.0091  -0.03207  0.13179  0.18745 -0.97282] --- [[4.01488]]\n",
      "[-0.04133  0.59192 -0.77449 -0.15537 -0.15475] --- [[11.64243]]\n",
      "[ 0.10328 -0.24728 -0.39382  0.87054  0.12351] --- [[23.64808]]\n",
      "[ 0.70729 -0.5012  -0.3298  -0.36252 -0.0914 ] --- [[31.31147]]\n",
      "[-0.69806 -0.57987 -0.34487 -0.22686 -0.07784] --- [[49.38315]]\n"
     ]
    }
   ],
   "source": [
    "if __name__ == '__main__':\n",
    "    A = np.array([[40, 8, 4, 2, 1], [8, 30, 12, 6, 2], [4, 12, 20, 1, 2], [2, 6, 1, 25, 4],[1, 2, 2, 4, 5]])\n",
    "    n = A.shape[0]\n",
    "    \n",
    "    A_barra, H = householder(A)\n",
    "    \n",
    "    autovetores,autovalores = eigen(A_barra)\n",
    "    autovetores = np.array([i.reshape(n) for i in autovetores])\n",
    "    \n",
    "    print('Autovetores e Autovalores de A_barra = \\n')\n",
    "    for i in range(n):\n",
    "        print(autovetores[i],'---',autovalores[i])\n",
    "    \n",
    "    print('\\n Autovetores e Autovalores de A = \\n')\n",
    "    autovetores_A = H.dot(autovetores.T)\n",
    "    for i in range(n):\n",
    "        print(autovetores_A[:,i],'---',autovalores[i])    "
   ]
  }
 ],
 "metadata": {
  "kernelspec": {
   "display_name": "Python 3 (ipykernel)",
   "language": "python",
   "name": "python3"
  },
  "language_info": {
   "codemirror_mode": {
    "name": "ipython",
    "version": 3
   },
   "file_extension": ".py",
   "mimetype": "text/x-python",
   "name": "python",
   "nbconvert_exporter": "python",
   "pygments_lexer": "ipython3",
   "version": "3.9.12"
  }
 },
 "nbformat": 4,
 "nbformat_minor": 5
}
