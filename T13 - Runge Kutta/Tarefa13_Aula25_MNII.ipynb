{
 "cells": [
  {
   "cell_type": "markdown",
   "id": "695cfa02",
   "metadata": {},
   "source": [
    "### TAREFA 13 - METÓDOS NUMÉRICOS II\n",
    "\n",
    "Membros:\n",
    "* Isaac Miller\n",
    "* Milton Cassul\n",
    "\n",
    "Tarefa descrita no final das aula [Aula#25](https://drive.google.com/file/d/1EFfbaqmuYuNyJpz_88Hhr65qqRQnCdgL/view)"
   ]
  },
  {
   "cell_type": "code",
   "execution_count": 1,
   "id": "e0ab41ba",
   "metadata": {},
   "outputs": [],
   "source": [
    "import numpy as np"
   ]
  },
  {
   "cell_type": "code",
   "execution_count": 2,
   "id": "34019c8a",
   "metadata": {},
   "outputs": [],
   "source": [
    "def f(S, k, m):\n",
    "    return np.array([S[1], -10-(k/m)*S[1]])"
   ]
  },
  {
   "cell_type": "code",
   "execution_count": 3,
   "id": "11cc2179",
   "metadata": {},
   "outputs": [],
   "source": [
    "def RugenKutta(h, v, k, m, delta):\n",
    "    list_t=[]\n",
    "    S=[]\n",
    "    S.append([h,v])\n",
    "    list_t.append(0)\n",
    "    i=0\n",
    "    critico=0\n",
    "    hmax=0\n",
    "    \n",
    "    while(S[i][0]>0):\n",
    "        i=i+1\n",
    "        list_t.append(delta*i)\n",
    "        aux1=S[i-1]+(delta/2)*f(S[i-1], k, m)\n",
    "        aux2=S[i-1] + delta*(-f(S[i-1],k,m) + 2*f(aux1,k,m))\n",
    "        S.append(S[i-1]+(delta/6)*(f(S[i-1],k,m)+4*f(aux1,k,m)+f(aux2,k,m)))\n",
    "        \n",
    "        if(S[i-1][1]*S[i][1]<0):\n",
    "            critico=list_t[i-1]+delta/2\n",
    "            aux1=S[i-1]+(delta/4)*f(S[i-1], k, m)\n",
    "            aux2=S[i-1]+(delta/2)*(-f(S[i-1],k,m)+2*f(aux1,k,m))\n",
    "            hmax=(S[i-1]+(delta/12)*(f(S[i-1],k,m)+4*f(aux1,k,m)+f(aux2,k,m)))[0]\n",
    "            \n",
    "    list_t.append(list_t[i-1]+delta/2)\n",
    "    aux1=S[i-1]+(delta/4)*f(S[i-1], k, m)\n",
    "    aux2=S[i-1]+(delta/2)*(-f(S[i-1],k,m)+2*f(aux1,k,m))\n",
    "    S.append((S[i-1]+(delta/12)*(f(S[i-1],k,m)+4*f(aux1,k,m)+f(aux2,k,m))))\n",
    "    \n",
    "    return S[i+1],critico,hmax,list_t[i+1]"
   ]
  },
  {
   "cell_type": "code",
   "execution_count": 4,
   "id": "2579d646",
   "metadata": {},
   "outputs": [
    {
     "name": "stdout",
     "output_type": "stream",
     "text": [
      "================ delta t = 0.1 ================\n",
      "\n",
      "Altura máxima da trajetória =  201.19411183954935 metros\n",
      "Tempo decorrido até a altura máxima =  0.45 segundos\n",
      "Tempo total até a queda no mar =  7.75 segundos\n",
      "velocidade no momento do impacto com o mar =  -47.73764155896221 m/s\n",
      "================ delta t = 0.01 ================\n",
      "\n",
      "Altura máxima da trajetória =  201.20024204056818 metros\n",
      "Tempo decorrido até a altura máxima =  0.485 segundos\n",
      "Tempo total até a queda no mar =  7.785 segundos\n",
      "velocidade no momento do impacto com o mar =  -47.87847852524537 m/s\n",
      "================ delta t = 0.001 ================\n",
      "\n",
      "Altura máxima da trajetória =  201.20024080254055 metros\n",
      "Tempo decorrido até a altura máxima =  0.4845 segundos\n",
      "Tempo total até a queda no mar =  7.7895 segundos\n",
      "velocidade no momento do impacto com o mar =  -47.896541797761635 m/s\n",
      "================ delta t = 0.0001 ================\n",
      "\n",
      "Altura máxima da trajetória =  201.2002420264497 metros\n",
      "Tempo decorrido até a altura máxima =  0.48495 segundos\n",
      "Tempo total até a queda no mar =  7.789750000000001 segundos\n",
      "velocidade no momento do impacto com o mar =  -47.89754501515252 m/s\n"
     ]
    }
   ],
   "source": [
    "if __name__ == \"__main__\":\n",
    "    y0 = 200\n",
    "    v0 = 5\n",
    "    k = 0.25\n",
    "    m = 2\n",
    "    \n",
    "    for i in range(1,5):\n",
    "        dt = 10 ** (-i)\n",
    "        print('=='*8+f' delta t = {dt} '+'=='*8+'\\n')\n",
    "        S,critico,hmax,t=RugenKutta(y0, v0, k, m, dt)\n",
    "        print(\"Altura máxima da trajetória = \", hmax ,\"metros\")\n",
    "        print(\"Tempo decorrido até a altura máxima = \",critico,\"segundos\")\n",
    "        print(\"Tempo total até a queda no mar = \",t,\"segundos\")\n",
    "        print(\"velocidade no momento do impacto com o mar = \",S[1],\"m/s\")"
   ]
  }
 ],
 "metadata": {
  "kernelspec": {
   "display_name": "Python 3 (ipykernel)",
   "language": "python",
   "name": "python3"
  },
  "language_info": {
   "codemirror_mode": {
    "name": "ipython",
    "version": 3
   },
   "file_extension": ".py",
   "mimetype": "text/x-python",
   "name": "python",
   "nbconvert_exporter": "python",
   "pygments_lexer": "ipython3",
   "version": "3.9.12"
  }
 },
 "nbformat": 4,
 "nbformat_minor": 5
}
