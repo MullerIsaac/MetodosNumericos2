{
 "cells": [
  {
   "cell_type": "markdown",
   "id": "870c8552",
   "metadata": {},
   "source": [
    "### Tarefa 05 - \n",
    "\n",
    "Dupla:\n",
    "* Isaac Oliveira - 412489\n",
    "* Milton Cassul - 404877\n"
   ]
  },
  {
   "cell_type": "code",
   "execution_count": 1,
   "id": "4d88d780",
   "metadata": {},
   "outputs": [],
   "source": [
    "from math import sin"
   ]
  },
  {
   "cell_type": "code",
   "execution_count": 2,
   "id": "1ec4b3e1",
   "metadata": {},
   "outputs": [],
   "source": [
    "def func(x):\n",
    "    return (sin(2*x) +4*(x**2) + 3*x)**2"
   ]
  },
  {
   "cell_type": "code",
   "execution_count": 3,
   "id": "4fcb5763",
   "metadata": {},
   "outputs": [],
   "source": [
    "def X(xi, xf, a):\n",
    "    return (xi+xf)/2 + (xf-xi)*a/2"
   ]
  },
  {
   "cell_type": "code",
   "execution_count": 4,
   "id": "4d273a13",
   "metadata": {},
   "outputs": [],
   "source": [
    "def calcQuadraturas(func, x, a, b, pnts, divs):\n",
    "    raizes = []\n",
    "    pesos = []\n",
    "    \n",
    "    if (pnts == 2):\n",
    "        raizes = [-0.577350, 0.577350]\n",
    "        pesos = [1,1]\n",
    "\n",
    "    if (pnts == 3):\n",
    "        raizes = [-0.774597, 0, 0.774597]\n",
    "        pesos = [0.55555555555, 0.88888888888, 0.55555555555]\n",
    "\n",
    "    if (pnts == 4):\n",
    "        raizes = [0.861136,0.339981,-0.339981,-0.861136]\n",
    "        pesos = [0.347854,0.652145,0.652145,0.347854]\n",
    "\n",
    "    result = 0\n",
    "    n_divs = 2**divs\n",
    "    h = (b-a)/n_divs\n",
    "\n",
    "    sub_result = 0\n",
    "    \n",
    "    for i in range(n_divs):\n",
    "        xi = a + i*h            \n",
    "        xf = xi + h\n",
    "\n",
    "        for ak,wk in zip(raizes,pesos):\n",
    "            sub_result += func(x(xi,xf,ak))*wk\n",
    "     \n",
    "    \n",
    "    result = (xf-xi)/2 * sub_result\n",
    "    \n",
    "    return result\n"
   ]
  },
  {
   "cell_type": "code",
   "execution_count": 5,
   "id": "651ed83a",
   "metadata": {},
   "outputs": [],
   "source": [
    "def integrar(f, x, a, b, pnts):\n",
    "    tolerancia = 10**(-6)\n",
    "\n",
    "    x0 = calcQuadraturas(f, x, a, b, pnts, 0)\n",
    "    x1 = calcQuadraturas(f, x, a, b, pnts, 1)\n",
    "    i = 1\n",
    "        \n",
    "    while(abs(x0-x1) > tolerancia):\n",
    "        i +=1\n",
    "        x0 = x1\n",
    "        x1 = calcQuadraturas(f, x, a, b, pnts, i)\n",
    "        \n",
    "    return i, x1        "
   ]
  },
  {
   "cell_type": "code",
   "execution_count": 6,
   "id": "227757e3",
   "metadata": {},
   "outputs": [
    {
     "name": "stdout",
     "output_type": "stream",
     "text": [
      "Quadratura com 2 pontos = 17.876470318706705\n",
      "Número de iterações = 5\n",
      "\n",
      "Quadratura com 3 pontos = 17.876470426037123\n",
      "Número de iterações = 3\n",
      "\n",
      "Quadratura com 4 pontos = 17.87645230324534\n",
      "Número de iterações = 3\n",
      "\n"
     ]
    }
   ],
   "source": [
    "def main():\n",
    "\n",
    "    for k in range(2, 5):\n",
    "        i, x = integrar(func, X, 0, 1, k)\n",
    "        print(\"Quadratura com {} pontos = {}\".format(k, x))\n",
    "        print(\"Número de iterações = {}\\n\".format(i))\n",
    "\n",
    "main()"
   ]
  }
 ],
 "metadata": {
  "kernelspec": {
   "display_name": "Python 3 (ipykernel)",
   "language": "python",
   "name": "python3"
  },
  "language_info": {
   "codemirror_mode": {
    "name": "ipython",
    "version": 3
   },
   "file_extension": ".py",
   "mimetype": "text/x-python",
   "name": "python",
   "nbconvert_exporter": "python",
   "pygments_lexer": "ipython3",
   "version": "3.9.12"
  }
 },
 "nbformat": 4,
 "nbformat_minor": 5
}
