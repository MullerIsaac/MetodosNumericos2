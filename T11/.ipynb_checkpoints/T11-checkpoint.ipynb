{
 "cells": [
  {
   "cell_type": "markdown",
   "metadata": {},
   "source": [
    "### Tarefa 11 - Método da Potência Regular\n",
    "Membros: \n",
    "* Isaac Miller\n",
    "* Milton Cassul"
   ]
  },
  {
   "cell_type": "code",
   "execution_count": 1,
   "metadata": {},
   "outputs": [],
   "source": [
    "import numpy as np"
   ]
  },
  {
   "cell_type": "code",
   "execution_count": 2,
   "metadata": {},
   "outputs": [],
   "source": [
    "def potencia_regular(A):\n",
    "    v = np.ones((A.shape[0],1))\n",
    "    tolerancia = 1E-10\n",
    "\n",
    "    lambda_ = 0\n",
    "    dif = 1\n",
    "\n",
    "    while dif > tolerancia:\n",
    "        lambda_velho=lambda_\n",
    "        x1 = v / np.linalg.norm(v)\n",
    "        v = A.dot(x1)\n",
    "        lambda_ = x1.T.dot(v)\n",
    "        dif = abs((lambda_-lambda_velho)/lambda_)\n",
    "\n",
    "        #print('autovetor = \\n ',x1)\n",
    "        #print('autovalor = ',lambda_,'\\n')\n",
    "\n",
    "    return x1,lambda_"
   ]
  },
  {
   "cell_type": "code",
   "execution_count": 3,
   "metadata": {},
   "outputs": [
    {
     "name": "stdout",
     "output_type": "stream",
     "text": [
      "Matriz [0]: \n",
      "\n",
      " [[5 2 1]\n",
      " [2 3 1]\n",
      " [1 1 2]] \n",
      "\n",
      "Matriz [1]: \n",
      "\n",
      " [[40  8  4  2  1]\n",
      " [ 8 30 12  6  2]\n",
      " [ 4 12 20  1  2]\n",
      " [ 2  6  1 25  4]\n",
      " [ 1  2  2  4  5]] \n",
      "\n",
      "Escolha uma das matrizes\n",
      "0\n",
      "\n",
      "autovetor do autovalor dominante = \n",
      " [[0.80517185]\n",
      " [0.51994284]\n",
      " [0.28523279]]\n",
      "autovalor dominante =  [[6.64575131]]\n"
     ]
    }
   ],
   "source": [
    "if __name__ == '__main__':\n",
    "    A1 = np.array([[5,2,1],[2,3,1],[1,1,2]])\n",
    "    A2 = np.array([[40,8,4,2,1],[8,30,12,6,2],[4,12,20,1,2],[2,6,1,25,4],[1,2,2,4,5]])\n",
    "    A = (A1,A2)\n",
    "\n",
    "    print('Matriz [0]: \\n\\n',A[0],'\\n')\n",
    "    print('Matriz [1]: \\n\\n',A[1],'\\n')\n",
    "\n",
    "    digit = int(input('Escolha uma das matrizes\\n'))\n",
    "\n",
    "    if not 0<=digit<=1: \n",
    "        print('Dígito inválido') \n",
    "        exit(0)\n",
    "        \n",
    "    vetor,valor = potencia_regular(A[digit])\n",
    "\n",
    "    print('\\nautovetor do autovalor dominante = \\n',vetor)\n",
    "    print('autovalor dominante = ',valor)\n"
   ]
  }
 ],
 "metadata": {
  "kernelspec": {
   "display_name": "Python 3 (ipykernel)",
   "language": "python",
   "name": "python3"
  },
  "language_info": {
   "codemirror_mode": {
    "name": "ipython",
    "version": 3
   },
   "file_extension": ".py",
   "mimetype": "text/x-python",
   "name": "python",
   "nbconvert_exporter": "python",
   "pygments_lexer": "ipython3",
   "version": "3.9.12"
  }
 },
 "nbformat": 4,
 "nbformat_minor": 2
}
