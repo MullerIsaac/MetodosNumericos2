{
 "cells": [
  {
   "cell_type": "markdown",
   "id": "bc0df404",
   "metadata": {},
   "source": [
    "### TAREFA 13 - METÓDOS NUMÉRICOS II\n",
    "\n",
    "Membros:\n",
    "* Isaac Miller\n",
    "* Milton Cassul\n",
    "\n",
    "Tarefa descrita no final das aula [Aula#27](https://drive.google.com/file/d/11JnjE0sRZ7FPMpFu4xAWtfy1-c6i3M5i/view)"
   ]
  },
  {
   "cell_type": "code",
   "execution_count": null,
   "id": "c23899a5",
   "metadata": {},
   "outputs": [],
   "source": [
    "import numpy as np\n",
    "import matplotlib.pyplot as plt"
   ]
  },
  {
   "cell_type": "code",
   "execution_count": null,
   "id": "594d128c",
   "metadata": {},
   "outputs": [],
   "source": [
    "def PVC1(N,yi,yf):\n",
    "    f_left = lambda dx: 1/(dx**2)\n",
    "    f_mid = lambda dx: -(2/(dx**2) + 1)\n",
    "    f_right = lambda dx: 1/(dx**2)\n",
    "    \n",
    "    x = np.linspace(yi,yf,N+1)\n",
    "    dx = x[1] - x[0]\n",
    "\n",
    "    A = np.zeros((N-1,N-1))\n",
    "    b = np.zeros(N-1)\n",
    "    \n",
    "    \n",
    "    #Primeira Linha\n",
    "    A[0,0:2] = np.array([f_mid(dx),f_right(dx)])\n",
    "    b[0] = -1 * (yi * f_left(dx))\n",
    "    b[N-2] = -1 * (yf * f_right(dx)) \n",
    "\n",
    "    #Linhas do meio\n",
    "    for i in range(1,N-2):\n",
    "        A[i,i-1:i+2] = np.array([f_left(dx),f_mid(dx),f_right(dx)])\n",
    "\n",
    "    #Última Linha\n",
    "    A[N-2,N-3:N-1] = np.array([f_left(dx),f_mid(dx)])\n",
    "    \n",
    "    print(\"Matriz do PVC1 = \\n\",A,'\\n') \n",
    "    \n",
    "    y = np.linalg.solve(A,b)\n",
    "    y_ = np.hstack([0,y,1])\n",
    "\n",
    "    return x,y_"
   ]
  },
  {
   "cell_type": "code",
   "execution_count": null,
   "id": "60aa11cd",
   "metadata": {},
   "outputs": [],
   "source": [
    "def PVC2(N=8):\n",
    "    def get_neighbors(i, j, N):\n",
    "        neighbors = [(i-1, j), (i, j+1), (i+1, j), (i, j-1)]\n",
    "        neighbors = [(i, j) for (i, j) in neighbors if 0 <= i < N and 0 <= j < N]\n",
    "    \n",
    "        return neighbors\n",
    "    \n",
    "    A = np.zeros(((N-1)**2, (N-1)**2))\n",
    "    b = np.ones((N-1)**2) * 4\n",
    "    dx = 1/N\n",
    "    idx = lambda i, j: i*(N-1) + j\n",
    "    \n",
    "    for i in range(N-1):\n",
    "        for j in range(N-1):\n",
    "            neighbors = get_neighbors(i, j, N-1)\n",
    "            for x, y in neighbors:\n",
    "                A[idx(i, j)][idx(x, y)] = 1/(dx**2)\n",
    "            A[idx(i, j)][idx(i, j)] = -2* (1/(dx**2) + 1/(dx**2))\n",
    "            \n",
    "\n",
    "    y = np.linalg.solve(A,b)\n",
    "    \n",
    "    print(\"Matriz do PVC2 = \\n\",A,'\\n') \n",
    "    return y"
   ]
  },
  {
   "cell_type": "code",
   "execution_count": null,
   "id": "3a4ed51e",
   "metadata": {},
   "outputs": [],
   "source": [
    "def relative_error(y_approx,y):\n",
    "    return abs(y_approx - y) / y"
   ]
  },
  {
   "cell_type": "code",
   "execution_count": null,
   "id": "e6279a8e",
   "metadata": {},
   "outputs": [],
   "source": [
    "if __name__ == \"__main__\":  \n",
    "    N,yi,yf = 8,0,1\n",
    "    x,y = PVC1(N,yi,yf)\n",
    "    \n",
    "    F = lambda x: (1/(np.exp(-1)-np.exp(1))) * (np.exp(-x) - np.exp(x))        #Sol. exata\n",
    "    y_exato = [F(i) for i in x]\n",
    "    errors = [relative_error(y[i],y_exato[i]) for i in range(1,len(x)-1)]\n",
    "    print('x = ',x,'\\n')\n",
    "    print(f\"Meus y = {y} \\n\\n Y exatos = {y_exato}\\n\\n\")\n",
    "    print(f\"Erros relativos sem o 0 e o 1 = {errors}\\n\\n\")\n",
    "    \n",
    "    u = PVC2(N)\n",
    "    y_pdf = [-0.171875,-0.21875,-0.171875,-0.21875,-0.28125,-0.21875,-0.171875,-0.21875,-0.171875]\n",
    "    #errors2 = [relative_error(y2,y_pdf[i]) for y in y2]\n",
    "    print(f\"Meus u = {u} \\n\\n\")\n",
    "    #print(f\"Erros relativos = {errors2}\\n\\n\")"
   ]
  }
 ],
 "metadata": {
  "kernelspec": {
   "display_name": "Python 3 (ipykernel)",
   "language": "python",
   "name": "python3"
  },
  "language_info": {
   "codemirror_mode": {
    "name": "ipython",
    "version": 3
   },
   "file_extension": ".py",
   "mimetype": "text/x-python",
   "name": "python",
   "nbconvert_exporter": "python",
   "pygments_lexer": "ipython3",
   "version": "3.9.12"
  }
 },
 "nbformat": 4,
 "nbformat_minor": 5
}
