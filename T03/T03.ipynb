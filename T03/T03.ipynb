{
 "cells": [
  {
   "cell_type": "markdown",
   "id": "05ef4ba1",
   "metadata": {},
   "source": [
    "### Tarefa 03 - Fórmulas Fechadas e Abertas\n",
    "Membros:\n",
    "* Isaac Miller\n",
    "* Milton Cassul"
   ]
  },
  {
   "cell_type": "code",
   "execution_count": 1,
   "id": "5934b55f",
   "metadata": {},
   "outputs": [],
   "source": [
    "#intA e intB são os limites de integracao\n",
    "# i = o indice do Xi que queremos calcular\n",
    "def calcXi(intA, intB, i, numInt):\n",
    "    return intA + i * (intB - intA) / numInt"
   ]
  },
  {
   "cell_type": "code",
   "execution_count": 2,
   "id": "54fcc35c",
   "metadata": {},
   "outputs": [],
   "source": [
    "def funcao(x):\n",
    "    return x**3 - 4 * x + 9"
   ]
  },
  {
   "cell_type": "code",
   "execution_count": 3,
   "id": "c7419019",
   "metadata": {},
   "outputs": [],
   "source": [
    "# I = [(b-a) / 2] * [(f(x0) + f(x1)]\n",
    "class TrapezioFechado:\n",
    "    def integrar(self, a, b, n):\n",
    "        integral = 0\n",
    "        h = (b - a) / n\n",
    "\n",
    "        for i in range(0, n):\n",
    "            x0 = a + i * h\n",
    "            x1 = a + (i + 1) * h\n",
    "            integral += (x1 - x0) / 2 * (funcao(x0) + funcao(x1))\n",
    "\n",
    "        return integral\n"
   ]
  },
  {
   "cell_type": "code",
   "execution_count": 4,
   "id": "90291880",
   "metadata": {},
   "outputs": [],
   "source": [
    "# I = [(b-a) / 3] * [(f(x0) + f(x1)]\n",
    "class TrapezioAberto:\n",
    "    def integrar(self, a, b, n):\n",
    "        integral = 0\n",
    "        h = (b - a) / n\n",
    "        for i in range(0, n):\n",
    "            b = a + h\n",
    "            x1 = calcXi(a, b, 1, 3)\n",
    "            x2 = calcXi(a, b, 2, 3)\n",
    "            integral += funcao(x1) + funcao(x2)\n",
    "            a = b\n",
    "        integral *= h / 2\n",
    "\n",
    "        return integral"
   ]
  },
  {
   "cell_type": "code",
   "execution_count": 5,
   "id": "9b849dd5",
   "metadata": {},
   "outputs": [
    {
     "name": "stdout",
     "output_type": "stream",
     "text": [
      "Newton-Cotes fechado: \n",
      "Iteração 1: 240.0\n",
      "Iteração 2: 168.0\n",
      "Iteração 3: 154.66666666666666\n",
      "Iteração 4: 150.0\n",
      "Iteração 5: 147.84\n",
      "Iteração 6: 146.66666666666666\n",
      "Iteração 7: 145.9591836734694\n",
      "\n",
      "--------------------------------------------------------\n",
      "\n",
      "Newton-Cotes aberto: \n",
      "Iteração 1: 111.99999999999999\n",
      "Iteração 2: 136.0\n",
      "Iteração 3: 140.4444444444444\n",
      "Iteração 4: 142.0\n",
      "Iteração 5: 142.72\n",
      "Iteração 6: 143.1111111111111\n",
      "Iteração 7: 143.34693877551015\n"
     ]
    }
   ],
   "source": [
    "def main():\n",
    "\n",
    "    numero_particoes = 8\n",
    "    a = 1\n",
    "    b = 5\n",
    "\n",
    "    NCfechado = TrapezioFechado()\n",
    "    NCaberto = TrapezioAberto()\n",
    "\n",
    "    print(\"Newton-Cotes fechado: \")\n",
    "\n",
    "    for i in range(1, int(numero_particoes)):\n",
    "        valor_atual = NCfechado.integrar(a, b, i)\n",
    "\n",
    "        print('Iteração {0}: {1}'.format(i, valor_atual))\n",
    "        #print('\\n')\n",
    "\n",
    "    print(\"\\n--------------------------------------------------------\\n\")\n",
    "    print(\"Newton-Cotes aberto: \")\n",
    "\n",
    "    for i in range(1, int(numero_particoes)):\n",
    "        valor_atual = NCaberto.integrar(a, b, i)\n",
    "\n",
    "        print('Iteração {0}: {1}'.format(i, valor_atual))\n",
    "        #print('\\n')\n",
    "\n",
    "\n",
    "main()"
   ]
  }
 ],
 "metadata": {
  "kernelspec": {
   "display_name": "Python 3 (ipykernel)",
   "language": "python",
   "name": "python3"
  },
  "language_info": {
   "codemirror_mode": {
    "name": "ipython",
    "version": 3
   },
   "file_extension": ".py",
   "mimetype": "text/x-python",
   "name": "python",
   "nbconvert_exporter": "python",
   "pygments_lexer": "ipython3",
   "version": "3.9.12"
  }
 },
 "nbformat": 4,
 "nbformat_minor": 5
}
